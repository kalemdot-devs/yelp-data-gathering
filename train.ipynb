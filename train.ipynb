{
 "cells": [
  {
   "cell_type": "code",
   "execution_count": 9,
   "id": "64be204f",
   "metadata": {},
   "outputs": [],
   "source": [
    "import time, os, csv\n",
    "import json, re, random\n",
    "from requests import session\n",
    "from lxml.html import fromstring\n",
    "from fake_useragent import UserAgent\n",
    "from DrissionPage import ChromiumOptions\n",
    "from DrissionPage.common import Keys\n",
    "from DrissionPage import Chromium, ChromiumPage\n",
    "ua = UserAgent()"
   ]
  },
  {
   "cell_type": "code",
   "execution_count": 10,
   "id": "05724ca3",
   "metadata": {},
   "outputs": [],
   "source": [
    "browser = ChromiumPage()\n",
    "time.sleep(2)\n",
    "\n",
    "option = ChromiumOptions()\n",
    "driver = browser.new_tab()\n",
    "\n",
    "\n",
    "# option.headless()"
   ]
  },
  {
   "cell_type": "code",
   "execution_count": null,
   "id": "8ca4f98c",
   "metadata": {},
   "outputs": [],
   "source": [
    "\n",
    "page_url = 'https://www.yelp.com/search?find_desc=Restaurants&find_loc=San+Francisco%2C+CA&start=0'\n"
   ]
  },
  {
   "cell_type": "code",
   "execution_count": null,
   "id": "9720f18c",
   "metadata": {},
   "outputs": [],
   "source": [
    "pg = 13\n",
    "\n",
    "while True:\n",
    "    item_per_page = 10\n",
    "    page = pg * item_per_page\n",
    "    page_url = f'https://www.yelp.com/search?find_desc=Restaurants&find_loc=San+Francisco%2C+CA&start={page}&dd_referrer='\n",
    "    print(page_url)\n",
    "    driver.get(page_url)\n",
    "    driver._wait_loaded(5)\n",
    "    [driver.actions.key_down(k) or time.sleep(1.7) for k in [Keys.DOWN]* 86]\n",
    "    soup = fromstring(driver.html)\n",
    "    contaier = soup.xpath('//div[@data-testid=\"serp-ia-card\"]//div[contains(@class,\"businessName\")]//a')\n",
    "    nextPg = soup.xpath('//button[contains(@class, \"pagination-button\") and @disabled]')\n",
    "    if nextPg:break\n",
    "    for item in contaier:\n",
    "        href_link = 'https://www.yelp.com' + item.get('href')\n",
    "        if 'biz' in href_link:\n",
    "            print(f'[*] Business Links : {href_link}')\n",
    "            with open('yelp_links.txt', 'a', encoding='utf-8') as file:\n",
    "                file.write(href_link + '\\n')\n",
    "    pg += 1\n",
    "    "
   ]
  },
  {
   "cell_type": "code",
   "execution_count": null,
   "id": "0012cefe",
   "metadata": {},
   "outputs": [],
   "source": [
    "soup = fromstring(driver.html)\n",
    "nextPage = '//div[@role=\"navigation\"]//span[text() = \"Next Page\"]'"
   ]
  },
  {
   "cell_type": "code",
   "execution_count": 5,
   "id": "84d7e5b2",
   "metadata": {},
   "outputs": [],
   "source": [
    "contaier = soup.xpath('//div[@data-testid=\"serp-ia-card\"]//div[contains(@class,\"businessName\")]//a')"
   ]
  },
  {
   "cell_type": "code",
   "execution_count": 6,
   "id": "deafa964",
   "metadata": {},
   "outputs": [
    {
     "name": "stdout",
     "output_type": "stream",
     "text": [
      "14\n"
     ]
    }
   ],
   "source": [
    "print(len(contaier))\n",
    "data_links = []"
   ]
  },
  {
   "cell_type": "code",
   "execution_count": 1,
   "id": "b5222ce2",
   "metadata": {},
   "outputs": [
    {
     "name": "stdout",
     "output_type": "stream",
     "text": [
      "https://www.yelp.com/search?find_desc=Restaurants&find_loc=San+Francisco%2C+CA&start=0&dd_referrer=\n"
     ]
    }
   ],
   "source": [
    "from urllib.parse import urlencode\n",
    "page = 0\n",
    "params = {\n",
    "        \"find_desc\": \"Restaurants\",\n",
    "        \"find_loc\": \"San Francisco, CA\",\n",
    "        \"start\": page,\n",
    "        \"dd_referrer\": \"\"\n",
    "    }\n",
    "page_url = \"https://www.yelp.com/search?\" + urlencode(params)\n",
    "\n",
    "\n",
    "print(page_url)"
   ]
  },
  {
   "cell_type": "code",
   "execution_count": null,
   "id": "6c9c9cc2",
   "metadata": {},
   "outputs": [
    {
     "name": "stdout",
     "output_type": "stream",
     "text": [
      "saved links found\n",
      "saved links found\n",
      "saved links found\n"
     ]
    }
   ],
   "source": [
    "open('sample.txt', 'w', encoding='utf-8').close()\n",
    "\n",
    "\n",
    "with open('sample.txt', encoding='utf-8') as file:\n",
    "    saved_links = [link.strip() for link in file.readlines()]\n",
    "\n",
    "\n",
    "new_links = [\n",
    "    'https://www.yelp.com/adredir?ad_business_id=Aapgx3LzavPPp1g1KXW8uQ&campaign_id=212670200&click_origin=search_results&placement=vertical_0&placement_slot=0&redirect_url=https%3A%2F%2Fwww.yelp.com%2Fbiz%2Fbetter-than-sweet-san-francisco&request_id=1b572cc9c74ee95a&signature=37941a0df69c958f9a470cbc42dad45f2103a5c03b854bb35115e44f7c076179&slot=0',\n",
    "    'https://www.yelp.com/adredir?ad_business_id=JA1DjwFEJ97PrsqA4QKPWA&campaign_id=210274275&click_origin=search_results&placement=vertical_0&placement_slot=0&redirect_url=https%3A%2F%2Fwww.yelp.com%2Fbiz%2Fhalal-city-san-francisco&request_id=1b572cc9c74ee95a&signature=f8123a6c46024122bc74e4d72f41428aadf0c31f86b93aa402ea20f41d7ccbdf&slot=1',\n",
    "    'https://www.yelp.com/biz/bottega-san-francisco-2?osq=Restaurants'\n",
    "]\n",
    "unique_new_links = [link for link in new_links if link not in saved_links]\n",
    "\n",
    "with open('sample.txt', 'a', encoding='utf-8') as file:\n",
    "    if unique_new_links:\n",
    "        for link in unique_new_links:\n",
    "            file.write(link + '\\n')\n",
    "            print('saved links found')\n",
    "    \n",
    "    else:\n",
    "        print('duplicate not found')"
   ]
  },
  {
   "cell_type": "code",
   "execution_count": null,
   "id": "cc65e884",
   "metadata": {},
   "outputs": [],
   "source": []
  },
  {
   "cell_type": "code",
   "execution_count": null,
   "id": "183aecfc",
   "metadata": {},
   "outputs": [
    {
     "name": "stdout",
     "output_type": "stream",
     "text": [
      "https://www.yelp.com/adredir?ad_business_id=2rvzTYaiXlqtBe5ZhNDiXA&campaign_id=213171001&click_origin=search_results&placement=vertical_0&placement_slot=0&redirect_url=https%3A%2F%2Fwww.yelp.com%2Fbiz%2Ftopgolf-burlingame-4&request_id=92bfbf659fab57af&signature=f33faadbe59b63789fa45031581ad56c8d8e542a84787f2a604f53d3759617e7&slot=0\n",
      "https://www.yelp.com/adredir?ad_business_id=HdZLo3v4zNVpzx1CQjg5MA&campaign_id=211872868&click_origin=search_results&placement=vertical_0&placement_slot=0&redirect_url=https%3A%2F%2Fwww.yelp.com%2Fbiz%2Fcapital-one-caf%25C3%25A9-san-francisco-3&request_id=92bfbf659fab57af&signature=c164666bf389a93890a62ac54bbf25592661e5fdfa6c2dee6ebb314fe46b7b2e&slot=1\n",
      "https://www.yelp.com/adredir?ad_business_id=WKBAkKgeqJ9aCoexvpNUeA&campaign_id=213549189&click_origin=search_results&placement=vertical_0&placement_slot=0&redirect_url=https%3A%2F%2Fwww.yelp.com%2Fbiz%2Fstar-india-san-francisco-5&request_id=92bfbf659fab57af&signature=b670cc8dee7e7f2a1765d85bdab04c34b5b50e3135ff865bdf7fdcf634e2922d&slot=2\n",
      "https://www.yelp.com/biz/hwa-mi-won-san-francisco?osq=Restaurants\n",
      "https://www.yelp.com/biz/marufuku-ramen-san-francisco-7?osq=Restaurants\n",
      "https://www.yelp.com/biz/beit-rima-san-francisco-3?osq=Restaurants\n",
      "https://www.yelp.com/biz/daeho-kalbijjim-and-beef-soup-san-francisco-9?osq=Restaurants\n",
      "https://www.yelp.com/biz/flora-king-san-francisco-2?osq=Restaurants\n",
      "https://www.yelp.com/biz/nopa-san-francisco?osq=Restaurants\n",
      "https://www.yelp.com/biz/sisterita-san-francisco?osq=Restaurants\n",
      "https://www.yelp.com/biz/blind-butcher-san-francisco-2?osq=Restaurants\n",
      "https://www.yelp.com/biz/dacha-kitchen-and-bar-san-francisco-3?osq=Restaurants\n",
      "https://www.yelp.com/biz/the-rustic-san-francisco-3?osq=Restaurants\n",
      "https://www.yelp.com/adredir?ad_business_id=E8PE-pQIlWAFloPZEctb3A&campaign_id=204174032&click_origin=search_results&placement=below_search&placement_slot=1&redirect_url=https%3A%2F%2Fwww.yelp.com%2Fbiz%2Fdave-and-busters-daly-city-11&request_id=92bfbf659fab57af&signature=bbd681b82553f0207322f8edd2e6fbc25da597d2e130194bcb5089ae01d16201&slot=0\n"
     ]
    }
   ],
   "source": [
    "for x in contaier:\n",
    "    links = 'https://www.yelp.com' + x.get('href')\n",
    "    \n",
    "    data_links.append(links)\n",
    "    print(links)"
   ]
  },
  {
   "cell_type": "code",
   "execution_count": null,
   "id": "6e2402e3",
   "metadata": {},
   "outputs": [
    {
     "name": "stdout",
     "output_type": "stream",
     "text": [
      "Hwa Mi Won\n"
     ]
    }
   ],
   "source": [
    "sample_url = 'https://www.yelp.com/biz/hwa-mi-won-san-francisco?osq=Restaurants'\n",
    "\n",
    "driver.get(sample_url)\n",
    "# phone number \n",
    "driver._wait_loaded(2.1)\n",
    "\n",
    "soup = fromstring(driver.html)\n",
    "\n",
    "title_tag = soup.xpath('//div[contains(@class,\"headingLight\")]/h1')\n",
    "title_text = title_tag[0].text.strip() if title_tag else 'None'\n",
    "print(title_text)\n",
    "phoneTag = soup.xpath('//div[@class=\"y-css-8x4us\"]//p[text()=\"Phone number\"]//following-sibling::p')\n",
    "phone_number = phoneTag[0].text.strip() if phoneTag else 'phone not available'\n",
    "print(phone_number)\n",
    "# business site \n",
    "websiteTag = soup.xpath('//div[@class=\"y-css-8x4us\"]//p[text()=\"Business website\"]//following-sibling::p/a')\n",
    "website_url = websiteTag[0].get('href').strip() if websiteTag else 'site not found'\n",
    "print(website_url)\n",
    "addressTag = soup.xpath('//div[@class=\"y-css-8x4us\"]//a[text()=\"Get Directions\"]/../following-sibling::p')\n",
    "address = addressTag[0].text_content().strip() if addressTag else 'site not found'\n",
    "print(address)\n",
    "\n",
    "title_tag = soup.xpath('//div[contains(@class,\"headingLight\")]/h1')\n",
    "title_text = title_tag[0].text.strip() if title_tag else 'None'\n",
    "print(title_text)"
   ]
  },
  {
   "cell_type": "code",
   "execution_count": null,
   "id": "2688d019",
   "metadata": {},
   "outputs": [
    {
     "name": "stdout",
     "output_type": "stream",
     "text": [
      "(415) 742-4220\n"
     ]
    }
   ],
   "source": [
    "# phone number \n",
    "driver._wait_loaded(2.1)\n",
    "\n",
    "soup = fromstring(driver.html)\n",
    "\n",
    "title_tag = soup.xpath('//div[contains(@class,\"headingLight\")]/h1')\n",
    "title_text = title_tag[0].text.strip() if title_tag else 'None'\n",
    "print(title_text)\n",
    "phoneTag = soup.xpath('//div[@class=\"y-css-8x4us\"]//p[text()=\"Phone number\"]//following-sibling::p')\n",
    "phone_number = phoneTag[0].text.strip() if phoneTag else 'phone not available'\n",
    "print(phone_number)\n",
    "# business site \n",
    "websiteTag = soup.xpath('//div[@class=\"y-css-8x4us\"]//p[text()=\"Business website\"]//following-sibling::p/a')\n",
    "website_url = websiteTag[0].get('href').strip() if websiteTag else 'site not found'\n",
    "print(website_url)\n",
    "addressTag = soup.xpath('//div[@class=\"y-css-8x4us\"]//a[text()=\"Get Directions\"]/../following-sibling::p')\n",
    "address = addressTag[0].text_content().strip() if addressTag else 'site not found'\n",
    "print(address)"
   ]
  },
  {
   "cell_type": "code",
   "execution_count": null,
   "id": "510a85ab",
   "metadata": {},
   "outputs": [
    {
     "name": "stdout",
     "output_type": "stream",
     "text": [
      "site not found\n"
     ]
    }
   ],
   "source": [
    "# business site \n",
    "websiteTag = soup.xpath('//div[@class=\"y-css-8x4us\"]//p[text()=\"Business website\"]//following-sibling::p/a')\n",
    "website_url = websiteTag[0].get('href').strip() if websiteTag else 'site not found'\n",
    "print(website_url)\n",
    "addressTag = soup.xpath('//div[@class=\"y-css-8x4us\"]//a[text()=\"Get Directions\"]/../following-sibling::p')\n",
    "address = addressTag[0].text_content().strip() if addressTag else 'site not found'\n",
    "print(address)"
   ]
  },
  {
   "cell_type": "code",
   "execution_count": 9,
   "id": "ca6d061a",
   "metadata": {},
   "outputs": [
    {
     "name": "stdout",
     "output_type": "stream",
     "text": [
      "6314 Geary Blvd San Francisco, CA 94121\n"
     ]
    }
   ],
   "source": [
    "'//div[@class=\"y-css-8x4us\"]//a[text()=\"Get Directions\"]/../following-sibling::p'\n",
    "\n",
    "addressTag = soup.xpath('//div[@class=\"y-css-8x4us\"]//a[text()=\"Get Directions\"]/../following-sibling::p')\n",
    "address = addressTag[0].text_content().strip() if addressTag else 'site not found'\n",
    "print(address)"
   ]
  },
  {
   "cell_type": "code",
   "execution_count": null,
   "id": "d86720c6",
   "metadata": {},
   "outputs": [],
   "source": [
    "url = 'https://www.drissionpage.cn/'\n",
    "\n",
    "driver.get(url)\n",
    "time.sleep(3)\n",
    "\n",
    "scroll_page = driver.ele('//body')\n"
   ]
  },
  {
   "cell_type": "code",
   "execution_count": null,
   "id": "913763af",
   "metadata": {},
   "outputs": [],
   "source": [
    "def read_urls(f):\n",
    "    with open(f,'r',encoding='utf-8') as x:return [i.strip() for i in x if i.strip()]\n",
    "\n",
    "def scrape_yelp_page(p,u):\n",
    "    try:\n",
    "        p.get(u);p._wait_loaded(3)\n",
    "        s=fromstring(p.html)\n",
    "        t=s.xpath('//div[contains(@class,\"headingLight\")]/h1')\n",
    "        n=t[0].text.strip() if t else 'N/A'\n",
    "        ph=s.xpath('//div[@class=\"y-css-8x4us\"]//p[text()=\"Phone number\"]/following-sibling::p')\n",
    "        phn=ph[0].text.strip() if ph else 'N/A'\n",
    "        w=s.xpath('//div[@class=\"y-css-8x4us\"]//p[text()=\"Business website\"]/following-sibling::p/a')\n",
    "        ws=w[0].get('href').strip() if w else 'N/A'\n",
    "        a=s.xpath('//div[@class=\"y-css-8x4us\"]//a[text()=\"Get Directions\"]/../following-sibling::p')\n",
    "        ad=a[0].text_content().strip() if a else 'N/A'\n",
    "        return {'Business Name':n,'Phone Number':phn,'Website':ws,'Address':ad,'URL':u}\n",
    "    except Exception as e:\n",
    "        print(f\"Error scraping {u}:{e}\")\n",
    "        return {'Business Name':'Error','Phone Number':'Error','Website':'Error','Address':'Error','URL':u}\n",
    "\n",
    "def save_to_csv(d,f='yelp_data.csv'):\n",
    "    if not d:return\n",
    "    k=d[0].keys()\n",
    "    with open(f,'w',newline='',encoding='utf-8') as x:\n",
    "        w=csv.DictWriter(x,fieldnames=k)\n",
    "        w.writeheader();w.writerows(d)\n",
    "    print(f\"Saved to {f}\")"
   ]
  }
 ],
 "metadata": {
  "kernelspec": {
   "display_name": "Python 3",
   "language": "python",
   "name": "python3"
  },
  "language_info": {
   "codemirror_mode": {
    "name": "ipython",
    "version": 3
   },
   "file_extension": ".py",
   "mimetype": "text/x-python",
   "name": "python",
   "nbconvert_exporter": "python",
   "pygments_lexer": "ipython3",
   "version": "3.12.9"
  }
 },
 "nbformat": 4,
 "nbformat_minor": 5
}
