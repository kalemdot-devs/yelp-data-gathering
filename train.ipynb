{
 "cells": [
  {
   "cell_type": "code",
   "execution_count": 1,
   "id": "64be204f",
   "metadata": {},
   "outputs": [],
   "source": [
    "import time, os, csv\n",
    "import json, re, random\n",
    "from requests import session\n",
    "from lxml.html import fromstring\n",
    "from fake_useragent import UserAgent\n",
    "from DrissionPage import ChromiumOptions\n",
    "from DrissionPage.common import Keys\n",
    "from DrissionPage import Chromium, ChromiumPage\n",
    "ua = UserAgent()"
   ]
  },
  {
   "cell_type": "code",
   "execution_count": 10,
   "id": "05724ca3",
   "metadata": {},
   "outputs": [],
   "source": [
    "browser = ChromiumPage()\n",
    "time.sleep(2)\n",
    "\n",
    "option = ChromiumOptions()\n",
    "driver = browser.new_tab()\n",
    "\n",
    "\n",
    "# option.headless()"
   ]
  },
  {
   "cell_type": "code",
   "execution_count": null,
   "id": "8ca4f98c",
   "metadata": {},
   "outputs": [],
   "source": [
    "\n",
    "page_url = 'https://www.yelp.com/search?find_desc=Restaurants&find_loc=San+Francisco%2C+CA&start=0'\n"
   ]
  },
  {
   "cell_type": "code",
   "execution_count": null,
   "id": "0012cefe",
   "metadata": {},
   "outputs": [],
   "source": [
    "soup = fromstring(driver.html)\n",
    "nextPage = '//div[@role=\"navigation\"]//span[text() = \"Next Page\"]'"
   ]
  },
  {
   "cell_type": "code",
   "execution_count": 5,
   "id": "84d7e5b2",
   "metadata": {},
   "outputs": [],
   "source": [
    "contaier = soup.xpath('//div[@data-testid=\"serp-ia-card\"]//div[contains(@class,\"businessName\")]//a')"
   ]
  },
  {
   "cell_type": "code",
   "execution_count": 1,
   "id": "b5222ce2",
   "metadata": {},
   "outputs": [
    {
     "name": "stdout",
     "output_type": "stream",
     "text": [
      "https://www.yelp.com/search?find_desc=Restaurants&find_loc=San+Francisco%2C+CA&start=0&dd_referrer=\n"
     ]
    }
   ],
   "source": [
    "from urllib.parse import urlencode\n",
    "page = 0\n",
    "params = {\n",
    "        \"find_desc\": \"Restaurants\",\n",
    "        \"find_loc\": \"San Francisco, CA\",\n",
    "        \"start\": page,\n",
    "        \"dd_referrer\": \"\"\n",
    "    }\n",
    "page_url = \"https://www.yelp.com/search?\" + urlencode(params)\n",
    "\n",
    "\n",
    "print(page_url)"
   ]
  },
  {
   "cell_type": "code",
   "execution_count": null,
   "id": "510a85ab",
   "metadata": {},
   "outputs": [
    {
     "name": "stdout",
     "output_type": "stream",
     "text": [
      "site not found\n"
     ]
    }
   ],
   "source": [
    "# business site \n",
    "websiteTag = soup.xpath('//div[@class=\"y-css-8x4us\"]//p[text()=\"Business website\"]//following-sibling::p/a')\n",
    "website_url = websiteTag[0].get('href').strip() if websiteTag else 'site not found'\n",
    "print(website_url)\n",
    "addressTag = soup.xpath('//div[@class=\"y-css-8x4us\"]//a[text()=\"Get Directions\"]/../following-sibling::p')\n",
    "address = addressTag[0].text_content().strip() if addressTag else 'site not found'\n",
    "print(address)"
   ]
  },
  {
   "cell_type": "code",
   "execution_count": 9,
   "id": "ca6d061a",
   "metadata": {},
   "outputs": [
    {
     "name": "stdout",
     "output_type": "stream",
     "text": [
      "6314 Geary Blvd San Francisco, CA 94121\n"
     ]
    }
   ],
   "source": [
    "'//div[@class=\"y-css-8x4us\"]//a[text()=\"Get Directions\"]/../following-sibling::p'\n",
    "\n",
    "addressTag = soup.xpath('//div[@class=\"y-css-8x4us\"]//a[text()=\"Get Directions\"]/../following-sibling::p')\n",
    "address = addressTag[0].text_content().strip() if addressTag else 'site not found'\n",
    "print(address)"
   ]
  },
  {
   "cell_type": "code",
   "execution_count": null,
   "id": "d86720c6",
   "metadata": {},
   "outputs": [],
   "source": [
    "url = 'https://www.drissionpage.cn/'\n",
    "\n",
    "driver.get(url)\n",
    "time.sleep(3)\n",
    "\n",
    "scroll_page = driver.ele('//body')\n"
   ]
  },
  {
   "cell_type": "code",
   "execution_count": null,
   "id": "913763af",
   "metadata": {},
   "outputs": [],
   "source": [
    "def read_urls(f):\n",
    "    with open(f,'r',encoding='utf-8') as x:return [i.strip() for i in x if i.strip()]\n",
    "\n",
    "def scrape_yelp_page(p,u):\n",
    "    try:\n",
    "        p.get(u);p._wait_loaded(3)\n",
    "        s=fromstring(p.html)\n",
    "        t=s.xpath('//div[contains(@class,\"headingLight\")]/h1')\n",
    "        n=t[0].text.strip() if t else 'N/A'\n",
    "        ph=s.xpath('//div[@class=\"y-css-8x4us\"]//p[text()=\"Phone number\"]/following-sibling::p')\n",
    "        phn=ph[0].text.strip() if ph else 'N/A'\n",
    "        w=s.xpath('//div[@class=\"y-css-8x4us\"]//p[text()=\"Business website\"]/following-sibling::p/a')\n",
    "        ws=w[0].get('href').strip() if w else 'N/A'\n",
    "        a=s.xpath('//div[@class=\"y-css-8x4us\"]//a[text()=\"Get Directions\"]/../following-sibling::p')\n",
    "        ad=a[0].text_content().strip() if a else 'N/A'\n",
    "        return {'Business Name':n,'Phone Number':phn,'Website':ws,'Address':ad,'URL':u}\n",
    "    except Exception as e:\n",
    "        print(f\"Error scraping {u}:{e}\")\n",
    "        return {'Business Name':'Error','Phone Number':'Error','Website':'Error','Address':'Error','URL':u}\n",
    "\n",
    "def save_to_csv(d,f='yelp_data.csv'):\n",
    "    if not d:return\n",
    "    k=d[0].keys()\n",
    "    with open(f,'w',newline='',encoding='utf-8') as x:\n",
    "        w=csv.DictWriter(x,fieldnames=k)\n",
    "        w.writeheader();w.writerows(d)\n",
    "    print(f\"Saved to {f}\")"
   ]
  }
 ],
 "metadata": {
  "kernelspec": {
   "display_name": "Python 3",
   "language": "python",
   "name": "python3"
  },
  "language_info": {
   "codemirror_mode": {
    "name": "ipython",
    "version": 3
   },
   "file_extension": ".py",
   "mimetype": "text/x-python",
   "name": "python",
   "nbconvert_exporter": "python",
   "pygments_lexer": "ipython3",
   "version": "3.12.9"
  }
 },
 "nbformat": 4,
 "nbformat_minor": 5
}
