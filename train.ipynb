{
 "cells": [
  {
   "cell_type": "code",
   "execution_count": 9,
   "id": "64be204f",
   "metadata": {},
   "outputs": [],
   "source": [
    "import time, os, csv\n",
    "import json, re, random\n",
    "from requests import session\n",
    "from lxml.html import fromstring\n",
    "from fake_useragent import UserAgent\n",
    "from DrissionPage import ChromiumOptions\n",
    "from DrissionPage.common import Keys\n",
    "from DrissionPage import Chromium, ChromiumPage\n",
    "ua = UserAgent()"
   ]
  },
  {
   "cell_type": "code",
   "execution_count": 10,
   "id": "05724ca3",
   "metadata": {},
   "outputs": [],
   "source": [
    "browser = ChromiumPage()\n",
    "time.sleep(2)\n",
    "\n",
    "option = ChromiumOptions()\n",
    "driver = browser.new_tab()\n",
    "\n",
    "\n",
    "# option.headless()"
   ]
  },
  {
   "cell_type": "code",
   "execution_count": null,
   "id": "8ca4f98c",
   "metadata": {},
   "outputs": [],
   "source": [
    "\n",
    "page_url = 'https://www.yelp.com/search?find_desc=Restaurants&find_loc=San+Francisco%2C+CA&start=0'\n"
   ]
  },
  {
   "cell_type": "code",
   "execution_count": 22,
   "id": "9720f18c",
   "metadata": {},
   "outputs": [
    {
     "name": "stdout",
     "output_type": "stream",
     "text": [
      "https://www.yelp.com/search?find_desc=Restaurants&find_loc=San+Francisco%2C+CA&start=130&dd_referrer=\n",
      "[*] Business Links : https://www.yelp.com/adredir?ad_business_id=Aapgx3LzavPPp1g1KXW8uQ&campaign_id=212670200&click_origin=search_results&placement=vertical_0&placement_slot=0&redirect_url=https%3A%2F%2Fwww.yelp.com%2Fbiz%2Fbetter-than-sweet-san-francisco&request_id=98a8b2b47ae3f399&signature=a7c30d096aa4d86625a3b30ff190fafc861d99d44196af7a4c201a25dbdab4b1&slot=0\n",
      "[*] Business Links : https://www.yelp.com/adredir?ad_business_id=GfXeHWZ1GeGJHqPzZLMFiQ&campaign_id=135276817&click_origin=search_results&placement=vertical_0&placement_slot=0&redirect_url=https%3A%2F%2Fwww.yelp.com%2Fbiz%2Froyal-exchange-san-francisco-4&request_id=98a8b2b47ae3f399&signature=b40fb774230cc0d8f79d736091ffd206a11b2cb8b51b0a7f49b8a8844ceebf11&slot=1\n",
      "[*] Business Links : https://www.yelp.com/adredir?ad_business_id=kXvwvJ99OMwFtIckuQzOOA&campaign_id=188509118&click_origin=search_results&placement=vertical_0&placement_slot=0&redirect_url=https%3A%2F%2Fwww.yelp.com%2Fbiz%2Fsan-francisco-meat-co-san-francisco-7&request_id=98a8b2b47ae3f399&signature=f142bed12d84594fd3696b931729f7172922f76ee0ca714b49304159fe4c7c0a&slot=2\n",
      "[*] Business Links : https://www.yelp.com/biz/echigo-home-cook-san-francisco-3?osq=Restaurants\n",
      "[*] Business Links : https://www.yelp.com/biz/abrazo-san-francisco-2?osq=Restaurants\n",
      "[*] Business Links : https://www.yelp.com/biz/yuji-san-francisco?osq=Restaurants\n",
      "[*] Business Links : https://www.yelp.com/biz/anomaly-sf-san-francisco-2?osq=Restaurants\n",
      "[*] Business Links : https://www.yelp.com/biz/mezze-and-mooore-san-francisco-3?osq=Restaurants\n",
      "[*] Business Links : https://www.yelp.com/biz/shanghai-dumpling-king-san-francisco-4?osq=Restaurants\n",
      "[*] Business Links : https://www.yelp.com/biz/paprika-san-francisco?osq=Restaurants\n",
      "[*] Business Links : https://www.yelp.com/biz/memento-sf-san-francisco-3?osq=Restaurants\n",
      "[*] Business Links : https://www.yelp.com/biz/chez-maman-east-san-francisco?osq=Restaurants\n",
      "[*] Business Links : https://www.yelp.com/biz/alora-san-francisco?osq=Restaurants\n",
      "https://www.yelp.com/search?find_desc=Restaurants&find_loc=San+Francisco%2C+CA&start=140&dd_referrer=\n",
      "[*] Business Links : https://www.yelp.com/adredir?ad_business_id=GfXeHWZ1GeGJHqPzZLMFiQ&campaign_id=135276817&click_origin=search_results&placement=vertical_0&placement_slot=0&redirect_url=https%3A%2F%2Fwww.yelp.com%2Fbiz%2Froyal-exchange-san-francisco-4&request_id=39caa2705b2aa1ce&signature=9e8ecbcf52739456b471eeeda3882f88b9cf7da587003775e3dea80b8857eb65&slot=0\n",
      "[*] Business Links : https://www.yelp.com/adredir?ad_business_id=lqSpSIAr94z0iKPNxg0Zzw&campaign_id=105465144&click_origin=search_results&placement=vertical_0&placement_slot=0&redirect_url=https%3A%2F%2Fwww.yelp.com%2Fbiz%2Fla-paloma-san-bruno&request_id=39caa2705b2aa1ce&signature=71bcc1d4a0b482fa7ee22fd94df995cabcdae1ccb7f2ba23cf135d52a3d7b3c0&slot=1\n",
      "[*] Business Links : https://www.yelp.com/adredir?ad_business_id=C_8tBcwMD5Xy-eA8QCz0Fw&campaign_id=203063816&click_origin=search_results&placement=vertical_0&placement_slot=0&redirect_url=https%3A%2F%2Fwww.yelp.com%2Fbiz%2Fmr-east-kitchen-san-francisco-2&request_id=39caa2705b2aa1ce&signature=450e75ff0d48f79c0820af2203968f4c6a6d8075db2db6c6071b9744a980877e&slot=2\n",
      "[*] Business Links : https://www.yelp.com/biz/collina-san-francisco?osq=Restaurants\n",
      "[*] Business Links : https://www.yelp.com/biz/the-pig-and-whistle-san-francisco?osq=Restaurants\n",
      "[*] Business Links : https://www.yelp.com/biz/la-mar-san-francisco-4?osq=Restaurants\n",
      "[*] Business Links : https://www.yelp.com/biz/four-chairs-san-francisco?osq=Restaurants\n",
      "[*] Business Links : https://www.yelp.com/biz/sabor-ga%C3%BAcho-prime-brazilian-steakhouse-san-francisco-2?osq=Restaurants\n",
      "[*] Business Links : https://www.yelp.com/biz/komaaj-san-francisco-9?osq=Restaurants\n",
      "[*] Business Links : https://www.yelp.com/biz/san-tung-san-francisco-2?osq=Restaurants\n",
      "[*] Business Links : https://www.yelp.com/biz/mezze-and-mooore-san-francisco-2?osq=Restaurants\n",
      "[*] Business Links : https://www.yelp.com/biz/lily-san-francisco?osq=Restaurants\n",
      "[*] Business Links : https://www.yelp.com/biz/kitchen-istanbul-san-francisco?osq=Restaurants\n",
      "https://www.yelp.com/search?find_desc=Restaurants&find_loc=San+Francisco%2C+CA&start=150&dd_referrer=\n",
      "[*] Business Links : https://www.yelp.com/adredir?ad_business_id=k-7RjwprL6YYERds-SXZEQ&campaign_id=214403785&click_origin=search_results&placement=vertical_0&placement_slot=0&redirect_url=https%3A%2F%2Fwww.yelp.com%2Fbiz%2Fpanda-express-san-francisco-8&request_id=574110af1f2c2204&signature=fcba22ead1de8ff397633094a7a642c4625f2fb3b37afa1d55f3370a57a5caf5&slot=0\n",
      "[*] Business Links : https://www.yelp.com/adredir?ad_business_id=ZcEvsrpDTrh87k27AZRENw&campaign_id=189634536&click_origin=search_results&placement=vertical_0&placement_slot=0&redirect_url=https%3A%2F%2Fwww.yelp.com%2Fbiz%2Ffalafel-city-san-francisco-2&request_id=574110af1f2c2204&signature=7275b516e48b2b4de54571dee23194276694702658164fc7004d8650b5d33b0e&slot=1\n",
      "[*] Business Links : https://www.yelp.com/adredir?ad_business_id=eT8h3get1FDUdUyCoZPt0w&campaign_id=212650922&click_origin=search_results&placement=vertical_0&placement_slot=0&redirect_url=https%3A%2F%2Fwww.yelp.com%2Fbiz%2Fthe-ramp-restaurant-san-francisco-2&request_id=574110af1f2c2204&signature=88d65e6840f7ce0590edb17b74f0c4decb6117ab5e7b1fe1ed7b215877c05721&slot=2\n",
      "[*] Business Links : https://www.yelp.com/biz/copra-san-francisco-2?osq=Restaurants\n",
      "[*] Business Links : https://www.yelp.com/biz/noodle-in-a-haystack-san-francisco?osq=Restaurants\n",
      "[*] Business Links : https://www.yelp.com/biz/go-duck-yourself-san-francisco-3?osq=Restaurants\n",
      "[*] Business Links : https://www.yelp.com/biz/trestle-san-francisco-5?osq=Restaurants\n",
      "[*] Business Links : https://www.yelp.com/biz/sorella-san-francisco?osq=Restaurants\n",
      "[*] Business Links : https://www.yelp.com/biz/the-italian-homemade-company-san-francisco-6?osq=Restaurants\n",
      "[*] Business Links : https://www.yelp.com/biz/dumpling-kitchen-san-francisco?osq=Restaurants\n",
      "[*] Business Links : https://www.yelp.com/biz/kitchen-story-san-francisco?osq=Restaurants\n",
      "[*] Business Links : https://www.yelp.com/biz/showa-le-gourmet-tonkatsu-san-francisco-2?osq=Restaurants\n",
      "[*] Business Links : https://www.yelp.com/biz/aliment-san-francisco?osq=Restaurants\n",
      "https://www.yelp.com/search?find_desc=Restaurants&find_loc=San+Francisco%2C+CA&start=160&dd_referrer=\n",
      "[*] Business Links : https://www.yelp.com/adredir?ad_business_id=yPxYIAJXOJJtpD1YT5fSIA&campaign_id=214694709&click_origin=search_results&placement=vertical_0&placement_slot=0&redirect_url=https%3A%2F%2Fwww.yelp.com%2Fbiz%2Fnorth-beach-pizza-san-francisco-4&request_id=2ad09b834c7c907e&signature=ff6a9bc504ae82dcc8796072cfc4fd2de00ac543eeea21d5f533088a2f7bf78d&slot=0\n",
      "[*] Business Links : https://www.yelp.com/adredir?ad_business_id=ieNnU61pECLH3KUeUUe5pA&campaign_id=213013027&click_origin=search_results&placement=vertical_0&placement_slot=0&redirect_url=https%3A%2F%2Fwww.yelp.com%2Fbiz%2Fcoyote-cooking-san-francisco&request_id=2ad09b834c7c907e&signature=b27d10c6b706508246471499fc1f07801521c03257c9eca7c523363b59b2bd77&slot=1\n",
      "[*] Business Links : https://www.yelp.com/adredir?ad_business_id=bU-DGo855WvKrn1GojebSQ&campaign_id=212068248&click_origin=search_results&placement=vertical_0&placement_slot=0&redirect_url=https%3A%2F%2Fwww.yelp.com%2Fbiz%2Foink-and-oscar-san-francisco-2&request_id=2ad09b834c7c907e&signature=5e915d47b67d7717057d2b39a3a5fecd510af9b7eb0f7917b438fdd50ff54d98&slot=2\n",
      "[*] Business Links : https://www.yelp.com/biz/dumpling-house-san-francisco?osq=Restaurants\n",
      "[*] Business Links : https://www.yelp.com/biz/noodle-in-a-haystack-san-francisco?osq=Restaurants\n",
      "[*] Business Links : https://www.yelp.com/biz/merchant-roots-san-francisco?osq=Restaurants\n",
      "[*] Business Links : https://www.yelp.com/biz/destapas-san-francisco?osq=Restaurants\n",
      "[*] Business Links : https://www.yelp.com/biz/yasijang-san-francisco?osq=Restaurants\n",
      "[*] Business Links : https://www.yelp.com/biz/casements-san-francisco-2?osq=Restaurants\n",
      "[*] Business Links : https://www.yelp.com/biz/supreme-dumpling-stonestown-san-francisco-2?osq=Restaurants\n",
      "[*] Business Links : https://www.yelp.com/biz/gola-san-francisco?osq=Restaurants\n",
      "[*] Business Links : https://www.yelp.com/biz/itria-san-francisco?osq=Restaurants\n",
      "[*] Business Links : https://www.yelp.com/biz/la-connessa-san-francisco?osq=Restaurants\n",
      "https://www.yelp.com/search?find_desc=Restaurants&find_loc=San+Francisco%2C+CA&start=170&dd_referrer=\n",
      "[*] Business Links : https://www.yelp.com/adredir?ad_business_id=o5PA5ExKjR1jDZ6SWhb8gQ&campaign_id=210230783&click_origin=search_results&placement=vertical_0&placement_slot=0&redirect_url=https%3A%2F%2Fwww.yelp.com%2Fbiz%2Fpopeyes-louisiana-kitchen-san-francisco-4&request_id=58d3972974e91bdf&signature=eec19da7d1a0c308de7e5cbcb22c69c1f5f2ff8074457d67eab3e401301cc3fd&slot=0\n",
      "[*] Business Links : https://www.yelp.com/adredir?ad_business_id=HdZLo3v4zNVpzx1CQjg5MA&campaign_id=209413329&click_origin=search_results&placement=vertical_0&placement_slot=0&redirect_url=https%3A%2F%2Fwww.yelp.com%2Fbiz%2Fcapital-one-caf%25C3%25A9-san-francisco-3&request_id=58d3972974e91bdf&signature=9c8d6a2a448a6621f7bd2b6a524487251adaec34d83df4c67f3561ca96f94687&slot=1\n",
      "[*] Business Links : https://www.yelp.com/adredir?ad_business_id=d-Ik5OblSVzYJiNPZSmJ9g&campaign_id=122556157&click_origin=search_results&placement=vertical_0&placement_slot=0&redirect_url=https%3A%2F%2Fwww.yelp.com%2Fbiz%2Flers-ros-thai-san-francisco-3&request_id=58d3972974e91bdf&signature=990203385f7afdd92861b63f170792e4994dd3ebb4f2f0e13952389723da7a6d&slot=2\n",
      "[*] Business Links : https://www.yelp.com/biz/bodega-san-francisco-2?osq=Restaurants\n",
      "[*] Business Links : https://www.yelp.com/biz/katsuo-kombu-san-francisco?osq=Restaurants\n",
      "[*] Business Links : https://www.yelp.com/biz/yakitori-edomasa-san-francisco?osq=Restaurants\n",
      "[*] Business Links : https://www.yelp.com/biz/jijime-san-francisco-8?osq=Restaurants\n",
      "[*] Business Links : https://www.yelp.com/biz/burma-love-san-francisco-10?osq=Restaurants\n",
      "[*] Business Links : https://www.yelp.com/biz/corzetti-san-francisco-3?osq=Restaurants\n",
      "[*] Business Links : https://www.yelp.com/biz/mariposas-san-francisco-2?osq=Restaurants\n",
      "[*] Business Links : https://www.yelp.com/biz/board-and-drink-san-francisco?osq=Restaurants\n",
      "[*] Business Links : https://www.yelp.com/biz/rich-table-san-francisco?osq=Restaurants\n",
      "[*] Business Links : https://www.yelp.com/biz/potto-san-francisco?osq=Restaurants\n",
      "https://www.yelp.com/search?find_desc=Restaurants&find_loc=San+Francisco%2C+CA&start=180&dd_referrer=\n"
     ]
    },
    {
     "ename": "KeyboardInterrupt",
     "evalue": "",
     "output_type": "error",
     "traceback": [
      "\u001b[31m---------------------------------------------------------------------------\u001b[39m",
      "\u001b[31mKeyboardInterrupt\u001b[39m                         Traceback (most recent call last)",
      "\u001b[36mCell\u001b[39m\u001b[36m \u001b[39m\u001b[32mIn[22]\u001b[39m\u001b[32m, line 8\u001b[39m\n\u001b[32m      6\u001b[39m page_url = \u001b[33mf\u001b[39m\u001b[33m'\u001b[39m\u001b[33mhttps://www.yelp.com/search?find_desc=Restaurants&find_loc=San+Francisco%2C+CA&start=\u001b[39m\u001b[38;5;132;01m{\u001b[39;00mpage\u001b[38;5;132;01m}\u001b[39;00m\u001b[33m&dd_referrer=\u001b[39m\u001b[33m'\u001b[39m\n\u001b[32m      7\u001b[39m \u001b[38;5;28mprint\u001b[39m(page_url)\n\u001b[32m----> \u001b[39m\u001b[32m8\u001b[39m \u001b[43mdriver\u001b[49m\u001b[43m.\u001b[49m\u001b[43mget\u001b[49m\u001b[43m(\u001b[49m\u001b[43mpage_url\u001b[49m\u001b[43m)\u001b[49m\n\u001b[32m      9\u001b[39m driver._wait_loaded(\u001b[32m5\u001b[39m)\n\u001b[32m     10\u001b[39m [driver.actions.key_down(k) \u001b[38;5;129;01mor\u001b[39;00m time.sleep(\u001b[32m1\u001b[39m) \u001b[38;5;28;01mfor\u001b[39;00m k \u001b[38;5;129;01min\u001b[39;00m [Keys.DOWN]* \u001b[32m81\u001b[39m]\n",
      "\u001b[36mFile \u001b[39m\u001b[32mc:\\Python\\Python312\\Lib\\site-packages\\DrissionPage\\_pages\\chromium_base.py:409\u001b[39m, in \u001b[36mChromiumBase.get\u001b[39m\u001b[34m(self, url, show_errmsg, retry, interval, timeout)\u001b[39m\n\u001b[32m    407\u001b[39m \u001b[38;5;28;01mdef\u001b[39;00m\u001b[38;5;250m \u001b[39m\u001b[34mget\u001b[39m(\u001b[38;5;28mself\u001b[39m, url, show_errmsg=\u001b[38;5;28;01mFalse\u001b[39;00m, retry=\u001b[38;5;28;01mNone\u001b[39;00m, interval=\u001b[38;5;28;01mNone\u001b[39;00m, timeout=\u001b[38;5;28;01mNone\u001b[39;00m):\n\u001b[32m    408\u001b[39m     retry, interval, is_file = \u001b[38;5;28mself\u001b[39m._before_connect(url, retry, interval)\n\u001b[32m--> \u001b[39m\u001b[32m409\u001b[39m     \u001b[38;5;28mself\u001b[39m._url_available = \u001b[38;5;28;43mself\u001b[39;49m\u001b[43m.\u001b[49m\u001b[43m_d_connect\u001b[49m\u001b[43m(\u001b[49m\u001b[38;5;28;43mself\u001b[39;49m\u001b[43m.\u001b[49m\u001b[43m_url\u001b[49m\u001b[43m,\u001b[49m\u001b[43m \u001b[49m\u001b[43mtimes\u001b[49m\u001b[43m=\u001b[49m\u001b[43mretry\u001b[49m\u001b[43m,\u001b[49m\u001b[43m \u001b[49m\u001b[43minterval\u001b[49m\u001b[43m=\u001b[49m\u001b[43minterval\u001b[49m\u001b[43m,\u001b[49m\n\u001b[32m    410\u001b[39m \u001b[43m                                          \u001b[49m\u001b[43mshow_errmsg\u001b[49m\u001b[43m=\u001b[49m\u001b[43mshow_errmsg\u001b[49m\u001b[43m,\u001b[49m\u001b[43m \u001b[49m\u001b[43mtimeout\u001b[49m\u001b[43m=\u001b[49m\u001b[43mtimeout\u001b[49m\u001b[43m)\u001b[49m\n\u001b[32m    411\u001b[39m     \u001b[38;5;28;01mreturn\u001b[39;00m \u001b[38;5;28mself\u001b[39m._url_available\n",
      "\u001b[36mFile \u001b[39m\u001b[32mc:\\Python\\Python312\\Lib\\site-packages\\DrissionPage\\_pages\\chromium_base.py:786\u001b[39m, in \u001b[36mChromiumBase._d_connect\u001b[39m\u001b[34m(self, to_url, times, interval, show_errmsg, timeout)\u001b[39m\n\u001b[32m    783\u001b[39m     \u001b[38;5;28;01mreturn\u001b[39;00m \u001b[38;5;28;01mTrue\u001b[39;00m\n\u001b[32m    785\u001b[39m yu = end_time - perf_counter()\n\u001b[32m--> \u001b[39m\u001b[32m786\u001b[39m ok = \u001b[38;5;28;43mself\u001b[39;49m\u001b[43m.\u001b[49m\u001b[43m_wait_loaded\u001b[49m\u001b[43m(\u001b[49m\u001b[32;43m1\u001b[39;49m\u001b[43m \u001b[49m\u001b[38;5;28;43;01mif\u001b[39;49;00m\u001b[43m \u001b[49m\u001b[43myu\u001b[49m\u001b[43m \u001b[49m\u001b[43m<\u001b[49m\u001b[43m=\u001b[49m\u001b[43m \u001b[49m\u001b[32;43m0\u001b[39;49m\u001b[43m \u001b[49m\u001b[38;5;28;43;01melse\u001b[39;49;00m\u001b[43m \u001b[49m\u001b[43myu\u001b[49m\u001b[43m)\u001b[49m\n\u001b[32m    787\u001b[39m \u001b[38;5;28;01mif\u001b[39;00m \u001b[38;5;129;01mnot\u001b[39;00m ok:\n\u001b[32m    788\u001b[39m     err = \u001b[38;5;167;01mTimeoutError\u001b[39;00m(_S._lang.join(_S._lang.TIMEOUT_, _S._lang.PAGE_CONNECT, timeout))\n",
      "\u001b[36mFile \u001b[39m\u001b[32mc:\\Python\\Python312\\Lib\\site-packages\\DrissionPage\\_pages\\chromium_base.py:749\u001b[39m, in \u001b[36mChromiumBase._wait_loaded\u001b[39m\u001b[34m(self, timeout)\u001b[39m\n\u001b[32m    745\u001b[39m     \u001b[38;5;28;01melif\u001b[39;00m \u001b[38;5;28mself\u001b[39m._load_mode == \u001b[33m'\u001b[39m\u001b[33meager\u001b[39m\u001b[33m'\u001b[39m \u001b[38;5;129;01mand\u001b[39;00m \u001b[38;5;28mself\u001b[39m._ready_state \u001b[38;5;129;01min\u001b[39;00m (\u001b[33m'\u001b[39m\u001b[33minteractive\u001b[39m\u001b[33m'\u001b[39m,\n\u001b[32m    746\u001b[39m                                                               \u001b[33m'\u001b[39m\u001b[33mcomplete\u001b[39m\u001b[33m'\u001b[39m) \u001b[38;5;129;01mand\u001b[39;00m \u001b[38;5;129;01mnot\u001b[39;00m \u001b[38;5;28mself\u001b[39m._is_loading:\n\u001b[32m    747\u001b[39m         \u001b[38;5;28;01mreturn\u001b[39;00m \u001b[38;5;28;01mTrue\u001b[39;00m\n\u001b[32m--> \u001b[39m\u001b[32m749\u001b[39m     \u001b[43msleep\u001b[49m\u001b[43m(\u001b[49m\u001b[32;43m.01\u001b[39;49m\u001b[43m)\u001b[49m\n\u001b[32m    751\u001b[39m \u001b[38;5;28;01mtry\u001b[39;00m:\n\u001b[32m    752\u001b[39m     \u001b[38;5;28mself\u001b[39m.stop_loading()\n",
      "\u001b[31mKeyboardInterrupt\u001b[39m: "
     ]
    }
   ],
   "source": [
    "pg = 13\n",
    "\n",
    "while True:\n",
    "    item_per_page = 10\n",
    "    page = pg * item_per_page\n",
    "    page_url = f'https://www.yelp.com/search?find_desc=Restaurants&find_loc=San+Francisco%2C+CA&start={page}&dd_referrer='\n",
    "    print(page_url)\n",
    "    driver.get(page_url)\n",
    "    driver._wait_loaded(5)\n",
    "    [driver.actions.key_down(k) or time.sleep(1.7) for k in [Keys.DOWN]* 86]\n",
    "    soup = fromstring(driver.html)\n",
    "    contaier = soup.xpath('//div[@data-testid=\"serp-ia-card\"]//div[contains(@class,\"businessName\")]//a')\n",
    "    nextPg = soup.xpath('//button[contains(@class, \"pagination-button\") and @disabled]')\n",
    "    if nextPg:break\n",
    "    for item in contaier:\n",
    "        href_link = 'https://www.yelp.com' + item.get('href')\n",
    "        if 'biz' in href_link:\n",
    "            print(f'[*] Business Links : {href_link}')\n",
    "            with open('yelp_links.txt', 'a', encoding='utf-8') as file:\n",
    "                file.write(href_link + '\\n')\n",
    "    pg += 1\n",
    "    "
   ]
  },
  {
   "cell_type": "code",
   "execution_count": null,
   "id": "0012cefe",
   "metadata": {},
   "outputs": [],
   "source": [
    "soup = fromstring(driver.html)\n",
    "nextPage = '//div[@role=\"navigation\"]//span[text() = \"Next Page\"]'"
   ]
  },
  {
   "cell_type": "code",
   "execution_count": 5,
   "id": "84d7e5b2",
   "metadata": {},
   "outputs": [],
   "source": [
    "contaier = soup.xpath('//div[@data-testid=\"serp-ia-card\"]//div[contains(@class,\"businessName\")]//a')"
   ]
  },
  {
   "cell_type": "code",
   "execution_count": 6,
   "id": "deafa964",
   "metadata": {},
   "outputs": [
    {
     "name": "stdout",
     "output_type": "stream",
     "text": [
      "14\n"
     ]
    }
   ],
   "source": [
    "print(len(contaier))\n",
    "data_links = []"
   ]
  },
  {
   "cell_type": "code",
   "execution_count": null,
   "id": "183aecfc",
   "metadata": {},
   "outputs": [
    {
     "name": "stdout",
     "output_type": "stream",
     "text": [
      "https://www.yelp.com/adredir?ad_business_id=2rvzTYaiXlqtBe5ZhNDiXA&campaign_id=213171001&click_origin=search_results&placement=vertical_0&placement_slot=0&redirect_url=https%3A%2F%2Fwww.yelp.com%2Fbiz%2Ftopgolf-burlingame-4&request_id=92bfbf659fab57af&signature=f33faadbe59b63789fa45031581ad56c8d8e542a84787f2a604f53d3759617e7&slot=0\n",
      "https://www.yelp.com/adredir?ad_business_id=HdZLo3v4zNVpzx1CQjg5MA&campaign_id=211872868&click_origin=search_results&placement=vertical_0&placement_slot=0&redirect_url=https%3A%2F%2Fwww.yelp.com%2Fbiz%2Fcapital-one-caf%25C3%25A9-san-francisco-3&request_id=92bfbf659fab57af&signature=c164666bf389a93890a62ac54bbf25592661e5fdfa6c2dee6ebb314fe46b7b2e&slot=1\n",
      "https://www.yelp.com/adredir?ad_business_id=WKBAkKgeqJ9aCoexvpNUeA&campaign_id=213549189&click_origin=search_results&placement=vertical_0&placement_slot=0&redirect_url=https%3A%2F%2Fwww.yelp.com%2Fbiz%2Fstar-india-san-francisco-5&request_id=92bfbf659fab57af&signature=b670cc8dee7e7f2a1765d85bdab04c34b5b50e3135ff865bdf7fdcf634e2922d&slot=2\n",
      "https://www.yelp.com/biz/hwa-mi-won-san-francisco?osq=Restaurants\n",
      "https://www.yelp.com/biz/marufuku-ramen-san-francisco-7?osq=Restaurants\n",
      "https://www.yelp.com/biz/beit-rima-san-francisco-3?osq=Restaurants\n",
      "https://www.yelp.com/biz/daeho-kalbijjim-and-beef-soup-san-francisco-9?osq=Restaurants\n",
      "https://www.yelp.com/biz/flora-king-san-francisco-2?osq=Restaurants\n",
      "https://www.yelp.com/biz/nopa-san-francisco?osq=Restaurants\n",
      "https://www.yelp.com/biz/sisterita-san-francisco?osq=Restaurants\n",
      "https://www.yelp.com/biz/blind-butcher-san-francisco-2?osq=Restaurants\n",
      "https://www.yelp.com/biz/dacha-kitchen-and-bar-san-francisco-3?osq=Restaurants\n",
      "https://www.yelp.com/biz/the-rustic-san-francisco-3?osq=Restaurants\n",
      "https://www.yelp.com/adredir?ad_business_id=E8PE-pQIlWAFloPZEctb3A&campaign_id=204174032&click_origin=search_results&placement=below_search&placement_slot=1&redirect_url=https%3A%2F%2Fwww.yelp.com%2Fbiz%2Fdave-and-busters-daly-city-11&request_id=92bfbf659fab57af&signature=bbd681b82553f0207322f8edd2e6fbc25da597d2e130194bcb5089ae01d16201&slot=0\n"
     ]
    }
   ],
   "source": [
    "for x in contaier:\n",
    "    links = 'https://www.yelp.com' + x.get('href')\n",
    "    \n",
    "    data_links.append(links)\n",
    "    print(links)"
   ]
  },
  {
   "cell_type": "code",
   "execution_count": null,
   "id": "6e2402e3",
   "metadata": {},
   "outputs": [
    {
     "name": "stdout",
     "output_type": "stream",
     "text": [
      "Hwa Mi Won\n"
     ]
    }
   ],
   "source": [
    "sample_url = 'https://www.yelp.com/biz/hwa-mi-won-san-francisco?osq=Restaurants'\n",
    "\n",
    "driver.get(sample_url)\n",
    "# phone number \n",
    "driver._wait_loaded(2.1)\n",
    "\n",
    "soup = fromstring(driver.html)\n",
    "\n",
    "title_tag = soup.xpath('//div[contains(@class,\"headingLight\")]/h1')\n",
    "title_text = title_tag[0].text.strip() if title_tag else 'None'\n",
    "print(title_text)\n",
    "phoneTag = soup.xpath('//div[@class=\"y-css-8x4us\"]//p[text()=\"Phone number\"]//following-sibling::p')\n",
    "phone_number = phoneTag[0].text.strip() if phoneTag else 'phone not available'\n",
    "print(phone_number)\n",
    "# business site \n",
    "websiteTag = soup.xpath('//div[@class=\"y-css-8x4us\"]//p[text()=\"Business website\"]//following-sibling::p/a')\n",
    "website_url = websiteTag[0].get('href').strip() if websiteTag else 'site not found'\n",
    "print(website_url)\n",
    "addressTag = soup.xpath('//div[@class=\"y-css-8x4us\"]//a[text()=\"Get Directions\"]/../following-sibling::p')\n",
    "address = addressTag[0].text_content().strip() if addressTag else 'site not found'\n",
    "print(address)romstring(driver.html)\n",
    "\n",
    "title_tag = soup.xpath('//div[contains(@class,\"headingLight\")]/h1')\n",
    "title_text = title_tag[0].text.strip() if title_tag else 'None'\n",
    "print(title_text)"
   ]
  },
  {
   "cell_type": "code",
   "execution_count": null,
   "id": "2688d019",
   "metadata": {},
   "outputs": [
    {
     "name": "stdout",
     "output_type": "stream",
     "text": [
      "(415) 742-4220\n"
     ]
    }
   ],
   "source": [
    "# phone number \n",
    "driver._wait_loaded(2.1)\n",
    "\n",
    "soup = fromstring(driver.html)\n",
    "\n",
    "title_tag = soup.xpath('//div[contains(@class,\"headingLight\")]/h1')\n",
    "title_text = title_tag[0].text.strip() if title_tag else 'None'\n",
    "print(title_text)\n",
    "phoneTag = soup.xpath('//div[@class=\"y-css-8x4us\"]//p[text()=\"Phone number\"]//following-sibling::p')\n",
    "phone_number = phoneTag[0].text.strip() if phoneTag else 'phone not available'\n",
    "print(phone_number)\n",
    "# business site \n",
    "websiteTag = soup.xpath('//div[@class=\"y-css-8x4us\"]//p[text()=\"Business website\"]//following-sibling::p/a')\n",
    "website_url = websiteTag[0].get('href').strip() if websiteTag else 'site not found'\n",
    "print(website_url)\n",
    "addressTag = soup.xpath('//div[@class=\"y-css-8x4us\"]//a[text()=\"Get Directions\"]/../following-sibling::p')\n",
    "address = addressTag[0].text_content().strip() if addressTag else 'site not found'\n",
    "print(address)"
   ]
  },
  {
   "cell_type": "code",
   "execution_count": null,
   "id": "510a85ab",
   "metadata": {},
   "outputs": [
    {
     "name": "stdout",
     "output_type": "stream",
     "text": [
      "site not found\n"
     ]
    }
   ],
   "source": [
    "# business site \n",
    "websiteTag = soup.xpath('//div[@class=\"y-css-8x4us\"]//p[text()=\"Business website\"]//following-sibling::p/a')\n",
    "website_url = websiteTag[0].get('href').strip() if websiteTag else 'site not found'\n",
    "print(website_url)\n",
    "addressTag = soup.xpath('//div[@class=\"y-css-8x4us\"]//a[text()=\"Get Directions\"]/../following-sibling::p')\n",
    "address = addressTag[0].text_content().strip() if addressTag else 'site not found'\n",
    "print(address)"
   ]
  },
  {
   "cell_type": "code",
   "execution_count": 9,
   "id": "ca6d061a",
   "metadata": {},
   "outputs": [
    {
     "name": "stdout",
     "output_type": "stream",
     "text": [
      "6314 Geary Blvd San Francisco, CA 94121\n"
     ]
    }
   ],
   "source": [
    "'//div[@class=\"y-css-8x4us\"]//a[text()=\"Get Directions\"]/../following-sibling::p'\n",
    "\n",
    "addressTag = soup.xpath('//div[@class=\"y-css-8x4us\"]//a[text()=\"Get Directions\"]/../following-sibling::p')\n",
    "address = addressTag[0].text_content().strip() if addressTag else 'site not found'\n",
    "print(address)"
   ]
  },
  {
   "cell_type": "code",
   "execution_count": null,
   "id": "d86720c6",
   "metadata": {},
   "outputs": [],
   "source": [
    "url = 'https://www.drissionpage.cn/'\n",
    "\n",
    "driver.get(url)\n",
    "time.sleep(3)\n",
    "\n",
    "scroll_page = driver.ele('//body')\n"
   ]
  },
  {
   "cell_type": "code",
   "execution_count": null,
   "id": "913763af",
   "metadata": {},
   "outputs": [],
   "source": [
    "def read_urls(f):\n",
    "    with open(f,'r',encoding='utf-8') as x:return [i.strip() for i in x if i.strip()]\n",
    "\n",
    "def scrape_yelp_page(p,u):\n",
    "    try:\n",
    "        p.get(u);p._wait_loaded(3)\n",
    "        s=fromstring(p.html)\n",
    "        t=s.xpath('//div[contains(@class,\"headingLight\")]/h1')\n",
    "        n=t[0].text.strip() if t else 'N/A'\n",
    "        ph=s.xpath('//div[@class=\"y-css-8x4us\"]//p[text()=\"Phone number\"]/following-sibling::p')\n",
    "        phn=ph[0].text.strip() if ph else 'N/A'\n",
    "        w=s.xpath('//div[@class=\"y-css-8x4us\"]//p[text()=\"Business website\"]/following-sibling::p/a')\n",
    "        ws=w[0].get('href').strip() if w else 'N/A'\n",
    "        a=s.xpath('//div[@class=\"y-css-8x4us\"]//a[text()=\"Get Directions\"]/../following-sibling::p')\n",
    "        ad=a[0].text_content().strip() if a else 'N/A'\n",
    "        return {'Business Name':n,'Phone Number':phn,'Website':ws,'Address':ad,'URL':u}\n",
    "    except Exception as e:\n",
    "        print(f\"Error scraping {u}:{e}\")\n",
    "        return {'Business Name':'Error','Phone Number':'Error','Website':'Error','Address':'Error','URL':u}\n",
    "\n",
    "def save_to_csv(d,f='yelp_data.csv'):\n",
    "    if not d:return\n",
    "    k=d[0].keys()\n",
    "    with open(f,'w',newline='',encoding='utf-8') as x:\n",
    "        w=csv.DictWriter(x,fieldnames=k)\n",
    "        w.writeheader();w.writerows(d)\n",
    "    print(f\"Saved to {f}\")"
   ]
  }
 ],
 "metadata": {
  "kernelspec": {
   "display_name": "Python 3",
   "language": "python",
   "name": "python3"
  },
  "language_info": {
   "codemirror_mode": {
    "name": "ipython",
    "version": 3
   },
   "file_extension": ".py",
   "mimetype": "text/x-python",
   "name": "python",
   "nbconvert_exporter": "python",
   "pygments_lexer": "ipython3",
   "version": "3.12.9"
  }
 },
 "nbformat": 4,
 "nbformat_minor": 5
}
