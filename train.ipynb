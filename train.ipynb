{
 "cells": [
  {
   "cell_type": "code",
   "execution_count": 10,
   "id": "64be204f",
   "metadata": {},
   "outputs": [],
   "source": [
    "import time, os, csv\n",
    "from DrissionPage import Chromium, ChromiumPage\n",
    "from DrissionPage import ChromiumOptions\n",
    "import json, re, random\n",
    "import requests\n",
    "from requests import session\n",
    "from lxml.html import fromstring\n",
    "from fake_useragent import UserAgent\n",
    "ua = UserAgent()"
   ]
  },
  {
   "cell_type": "code",
   "execution_count": null,
   "id": "4280172d",
   "metadata": {},
   "outputs": [],
   "source": []
  },
  {
   "cell_type": "code",
   "execution_count": 11,
   "id": "05724ca3",
   "metadata": {},
   "outputs": [
    {
     "data": {
      "text/plain": [
       "True"
      ]
     },
     "execution_count": 11,
     "metadata": {},
     "output_type": "execute_result"
    }
   ],
   "source": [
    "driver = ChromiumPage()\n",
    "time.sleep(2)\n",
    "\n",
    "option = ChromiumOptions()\n",
    "option.headless()\n",
    "\n",
    "driver.get('https://www.yelp.com')"
   ]
  },
  {
   "cell_type": "code",
   "execution_count": null,
   "id": "8ca4f98c",
   "metadata": {},
   "outputs": [],
   "source": [
    "\n",
    "driver.get('https://www.yelp.com/search?find_desc=Restaurants&find_loc=San+Francisco%2C+CA&start=10')\n"
   ]
  },
  {
   "cell_type": "code",
   "execution_count": 13,
   "id": "9720f18c",
   "metadata": {},
   "outputs": [
    {
     "name": "stdout",
     "output_type": "stream",
     "text": [
      "https://www.yelp.com/search?find_desc=Restaurants&find_loc=San+Francisco%2C+CA&start=0\n",
      "TOP 10 BEST Restaurants in San Francisco, CA - Updated 2025 - Yelp\n",
      "14\n",
      "https://www.yelp.com/search?find_desc=Restaurants&find_loc=San+Francisco%2C+CA&start=10\n",
      "TOP 10 BEST Restaurants in San Francisco, CA - Updated 2025 - Yelp\n",
      "14\n",
      "https://www.yelp.com/search?find_desc=Restaurants&find_loc=San+Francisco%2C+CA&start=20\n"
     ]
    },
    {
     "ename": "KeyboardInterrupt",
     "evalue": "",
     "output_type": "error",
     "traceback": [
      "\u001b[31m---------------------------------------------------------------------------\u001b[39m",
      "\u001b[31mKeyboardInterrupt\u001b[39m                         Traceback (most recent call last)",
      "\u001b[36mCell\u001b[39m\u001b[36m \u001b[39m\u001b[32mIn[13]\u001b[39m\u001b[32m, line 8\u001b[39m\n\u001b[32m      6\u001b[39m page_url = \u001b[33mf\u001b[39m\u001b[33m'\u001b[39m\u001b[33mhttps://www.yelp.com/search?find_desc=Restaurants&find_loc=San+Francisco%2C+CA&start=\u001b[39m\u001b[38;5;132;01m{\u001b[39;00mpage\u001b[38;5;132;01m}\u001b[39;00m\u001b[33m'\u001b[39m\n\u001b[32m      7\u001b[39m \u001b[38;5;28mprint\u001b[39m(page_url)\n\u001b[32m----> \u001b[39m\u001b[32m8\u001b[39m \u001b[43mdriver\u001b[49m\u001b[43m.\u001b[49m\u001b[43mget\u001b[49m\u001b[43m(\u001b[49m\u001b[43mpage_url\u001b[49m\u001b[43m)\u001b[49m\n\u001b[32m      9\u001b[39m soup = fromstring(driver.html)\n\u001b[32m     10\u001b[39m nextPage = \u001b[33m'\u001b[39m\u001b[33m//div[@role=\u001b[39m\u001b[33m\"\u001b[39m\u001b[33mnavigation\u001b[39m\u001b[33m\"\u001b[39m\u001b[33m]//span[text() = \u001b[39m\u001b[33m\"\u001b[39m\u001b[33mNext Page\u001b[39m\u001b[33m\"\u001b[39m\u001b[33m]\u001b[39m\u001b[33m'\u001b[39m\n",
      "\u001b[36mFile \u001b[39m\u001b[32mc:\\Python\\Python312\\Lib\\site-packages\\DrissionPage\\_pages\\chromium_base.py:409\u001b[39m, in \u001b[36mChromiumBase.get\u001b[39m\u001b[34m(self, url, show_errmsg, retry, interval, timeout)\u001b[39m\n\u001b[32m    407\u001b[39m \u001b[38;5;28;01mdef\u001b[39;00m\u001b[38;5;250m \u001b[39m\u001b[34mget\u001b[39m(\u001b[38;5;28mself\u001b[39m, url, show_errmsg=\u001b[38;5;28;01mFalse\u001b[39;00m, retry=\u001b[38;5;28;01mNone\u001b[39;00m, interval=\u001b[38;5;28;01mNone\u001b[39;00m, timeout=\u001b[38;5;28;01mNone\u001b[39;00m):\n\u001b[32m    408\u001b[39m     retry, interval, is_file = \u001b[38;5;28mself\u001b[39m._before_connect(url, retry, interval)\n\u001b[32m--> \u001b[39m\u001b[32m409\u001b[39m     \u001b[38;5;28mself\u001b[39m._url_available = \u001b[38;5;28;43mself\u001b[39;49m\u001b[43m.\u001b[49m\u001b[43m_d_connect\u001b[49m\u001b[43m(\u001b[49m\u001b[38;5;28;43mself\u001b[39;49m\u001b[43m.\u001b[49m\u001b[43m_url\u001b[49m\u001b[43m,\u001b[49m\u001b[43m \u001b[49m\u001b[43mtimes\u001b[49m\u001b[43m=\u001b[49m\u001b[43mretry\u001b[49m\u001b[43m,\u001b[49m\u001b[43m \u001b[49m\u001b[43minterval\u001b[49m\u001b[43m=\u001b[49m\u001b[43minterval\u001b[49m\u001b[43m,\u001b[49m\n\u001b[32m    410\u001b[39m \u001b[43m                                          \u001b[49m\u001b[43mshow_errmsg\u001b[49m\u001b[43m=\u001b[49m\u001b[43mshow_errmsg\u001b[49m\u001b[43m,\u001b[49m\u001b[43m \u001b[49m\u001b[43mtimeout\u001b[49m\u001b[43m=\u001b[49m\u001b[43mtimeout\u001b[49m\u001b[43m)\u001b[49m\n\u001b[32m    411\u001b[39m     \u001b[38;5;28;01mreturn\u001b[39;00m \u001b[38;5;28mself\u001b[39m._url_available\n",
      "\u001b[36mFile \u001b[39m\u001b[32mc:\\Python\\Python312\\Lib\\site-packages\\DrissionPage\\_pages\\chromium_base.py:786\u001b[39m, in \u001b[36mChromiumBase._d_connect\u001b[39m\u001b[34m(self, to_url, times, interval, show_errmsg, timeout)\u001b[39m\n\u001b[32m    783\u001b[39m     \u001b[38;5;28;01mreturn\u001b[39;00m \u001b[38;5;28;01mTrue\u001b[39;00m\n\u001b[32m    785\u001b[39m yu = end_time - perf_counter()\n\u001b[32m--> \u001b[39m\u001b[32m786\u001b[39m ok = \u001b[38;5;28;43mself\u001b[39;49m\u001b[43m.\u001b[49m\u001b[43m_wait_loaded\u001b[49m\u001b[43m(\u001b[49m\u001b[32;43m1\u001b[39;49m\u001b[43m \u001b[49m\u001b[38;5;28;43;01mif\u001b[39;49;00m\u001b[43m \u001b[49m\u001b[43myu\u001b[49m\u001b[43m \u001b[49m\u001b[43m<\u001b[49m\u001b[43m=\u001b[49m\u001b[43m \u001b[49m\u001b[32;43m0\u001b[39;49m\u001b[43m \u001b[49m\u001b[38;5;28;43;01melse\u001b[39;49;00m\u001b[43m \u001b[49m\u001b[43myu\u001b[49m\u001b[43m)\u001b[49m\n\u001b[32m    787\u001b[39m \u001b[38;5;28;01mif\u001b[39;00m \u001b[38;5;129;01mnot\u001b[39;00m ok:\n\u001b[32m    788\u001b[39m     err = \u001b[38;5;167;01mTimeoutError\u001b[39;00m(_S._lang.join(_S._lang.TIMEOUT_, _S._lang.PAGE_CONNECT, timeout))\n",
      "\u001b[36mFile \u001b[39m\u001b[32mc:\\Python\\Python312\\Lib\\site-packages\\DrissionPage\\_pages\\chromium_base.py:749\u001b[39m, in \u001b[36mChromiumBase._wait_loaded\u001b[39m\u001b[34m(self, timeout)\u001b[39m\n\u001b[32m    745\u001b[39m     \u001b[38;5;28;01melif\u001b[39;00m \u001b[38;5;28mself\u001b[39m._load_mode == \u001b[33m'\u001b[39m\u001b[33meager\u001b[39m\u001b[33m'\u001b[39m \u001b[38;5;129;01mand\u001b[39;00m \u001b[38;5;28mself\u001b[39m._ready_state \u001b[38;5;129;01min\u001b[39;00m (\u001b[33m'\u001b[39m\u001b[33minteractive\u001b[39m\u001b[33m'\u001b[39m,\n\u001b[32m    746\u001b[39m                                                               \u001b[33m'\u001b[39m\u001b[33mcomplete\u001b[39m\u001b[33m'\u001b[39m) \u001b[38;5;129;01mand\u001b[39;00m \u001b[38;5;129;01mnot\u001b[39;00m \u001b[38;5;28mself\u001b[39m._is_loading:\n\u001b[32m    747\u001b[39m         \u001b[38;5;28;01mreturn\u001b[39;00m \u001b[38;5;28;01mTrue\u001b[39;00m\n\u001b[32m--> \u001b[39m\u001b[32m749\u001b[39m     \u001b[43msleep\u001b[49m\u001b[43m(\u001b[49m\u001b[32;43m.01\u001b[39;49m\u001b[43m)\u001b[49m\n\u001b[32m    751\u001b[39m \u001b[38;5;28;01mtry\u001b[39;00m:\n\u001b[32m    752\u001b[39m     \u001b[38;5;28mself\u001b[39m.stop_loading()\n",
      "\u001b[31mKeyboardInterrupt\u001b[39m: "
     ]
    }
   ],
   "source": [
    "pg = 0\n",
    "\n",
    "while pg < 3:\n",
    "    item_per_page = 10\n",
    "    page = pg * item_per_page\n",
    "    page_url = f'https://www.yelp.com/search?find_desc=Restaurants&find_loc=San+Francisco%2C+CA&start={page}'\n",
    "    print(page_url)\n",
    "    driver.get(page_url)\n",
    "    soup = fromstring(driver.html)\n",
    "    nextPage = '//div[@role=\"navigation\"]//span[text() = \"Next Page\"]'\n",
    "    contaier = soup.xpath('//div[@data-testid=\"serp-ia-card\"]//div[contains(@class,\"businessName\")]//a')\n",
    "    print(driver.title)\n",
    "    print(len(contaier))\n",
    "    pg += 1"
   ]
  },
  {
   "cell_type": "code",
   "execution_count": null,
   "id": "0012cefe",
   "metadata": {},
   "outputs": [],
   "source": [
    "soup = fromstring(driver.html)\n",
    "nextPage = '//div[@role=\"navigation\"]//span[text() = \"Next Page\"]'"
   ]
  },
  {
   "cell_type": "code",
   "execution_count": 5,
   "id": "84d7e5b2",
   "metadata": {},
   "outputs": [],
   "source": [
    "contaier = soup.xpath('//div[@data-testid=\"serp-ia-card\"]//div[contains(@class,\"businessName\")]//a')"
   ]
  },
  {
   "cell_type": "code",
   "execution_count": 6,
   "id": "deafa964",
   "metadata": {},
   "outputs": [
    {
     "name": "stdout",
     "output_type": "stream",
     "text": [
      "14\n"
     ]
    }
   ],
   "source": [
    "print(len(contaier))\n",
    "data_links = []"
   ]
  },
  {
   "cell_type": "code",
   "execution_count": null,
   "id": "183aecfc",
   "metadata": {},
   "outputs": [
    {
     "name": "stdout",
     "output_type": "stream",
     "text": [
      "https://www.yelp.com/adredir?ad_business_id=2rvzTYaiXlqtBe5ZhNDiXA&campaign_id=213171001&click_origin=search_results&placement=vertical_0&placement_slot=0&redirect_url=https%3A%2F%2Fwww.yelp.com%2Fbiz%2Ftopgolf-burlingame-4&request_id=92bfbf659fab57af&signature=f33faadbe59b63789fa45031581ad56c8d8e542a84787f2a604f53d3759617e7&slot=0\n",
      "https://www.yelp.com/adredir?ad_business_id=HdZLo3v4zNVpzx1CQjg5MA&campaign_id=211872868&click_origin=search_results&placement=vertical_0&placement_slot=0&redirect_url=https%3A%2F%2Fwww.yelp.com%2Fbiz%2Fcapital-one-caf%25C3%25A9-san-francisco-3&request_id=92bfbf659fab57af&signature=c164666bf389a93890a62ac54bbf25592661e5fdfa6c2dee6ebb314fe46b7b2e&slot=1\n",
      "https://www.yelp.com/adredir?ad_business_id=WKBAkKgeqJ9aCoexvpNUeA&campaign_id=213549189&click_origin=search_results&placement=vertical_0&placement_slot=0&redirect_url=https%3A%2F%2Fwww.yelp.com%2Fbiz%2Fstar-india-san-francisco-5&request_id=92bfbf659fab57af&signature=b670cc8dee7e7f2a1765d85bdab04c34b5b50e3135ff865bdf7fdcf634e2922d&slot=2\n",
      "https://www.yelp.com/biz/hwa-mi-won-san-francisco?osq=Restaurants\n",
      "https://www.yelp.com/biz/marufuku-ramen-san-francisco-7?osq=Restaurants\n",
      "https://www.yelp.com/biz/beit-rima-san-francisco-3?osq=Restaurants\n",
      "https://www.yelp.com/biz/daeho-kalbijjim-and-beef-soup-san-francisco-9?osq=Restaurants\n",
      "https://www.yelp.com/biz/flora-king-san-francisco-2?osq=Restaurants\n",
      "https://www.yelp.com/biz/nopa-san-francisco?osq=Restaurants\n",
      "https://www.yelp.com/biz/sisterita-san-francisco?osq=Restaurants\n",
      "https://www.yelp.com/biz/blind-butcher-san-francisco-2?osq=Restaurants\n",
      "https://www.yelp.com/biz/dacha-kitchen-and-bar-san-francisco-3?osq=Restaurants\n",
      "https://www.yelp.com/biz/the-rustic-san-francisco-3?osq=Restaurants\n",
      "https://www.yelp.com/adredir?ad_business_id=E8PE-pQIlWAFloPZEctb3A&campaign_id=204174032&click_origin=search_results&placement=below_search&placement_slot=1&redirect_url=https%3A%2F%2Fwww.yelp.com%2Fbiz%2Fdave-and-busters-daly-city-11&request_id=92bfbf659fab57af&signature=bbd681b82553f0207322f8edd2e6fbc25da597d2e130194bcb5089ae01d16201&slot=0\n"
     ]
    }
   ],
   "source": [
    "for x in contaier:\n",
    "    links = 'https://www.yelp.com' + x.get('href')\n",
    "    \n",
    "    data_links.append(links)\n",
    "    print(links)"
   ]
  },
  {
   "cell_type": "code",
   "execution_count": 6,
   "id": "6e2402e3",
   "metadata": {},
   "outputs": [
    {
     "name": "stdout",
     "output_type": "stream",
     "text": [
      "Hwa Mi Won\n"
     ]
    }
   ],
   "source": [
    "sample_url = 'https://www.yelp.com/biz/hwa-mi-won-san-francisco?osq=Restaurants'\n",
    "\n",
    "driver.get(sample_url)\n",
    "driver._wait_loaded(2.1)\n",
    "\n",
    "soup = fromstring(driver.html)\n",
    "\n",
    "title_tag = soup.xpath('//div[contains(@class,\"headingLight\")]/h1')\n",
    "title_text = title_tag[0].text.strip() if title_tag else 'None'\n",
    "print(title_text)"
   ]
  },
  {
   "cell_type": "code",
   "execution_count": 7,
   "id": "2688d019",
   "metadata": {},
   "outputs": [
    {
     "name": "stdout",
     "output_type": "stream",
     "text": [
      "(415) 742-4220\n"
     ]
    }
   ],
   "source": [
    "# phone number \n",
    "\n",
    "phoneTag = soup.xpath('//div[@class=\"y-css-8x4us\"]//p[text()=\"Phone number\"]//following-sibling::p')\n",
    "phone_number = phoneTag[0].text.strip() if phoneTag else 'phone not available'\n",
    "print(phone_number)"
   ]
  },
  {
   "cell_type": "code",
   "execution_count": 8,
   "id": "510a85ab",
   "metadata": {},
   "outputs": [
    {
     "name": "stdout",
     "output_type": "stream",
     "text": [
      "site not found\n"
     ]
    }
   ],
   "source": [
    "# business site \n",
    "websiteTag = soup.xpath('//div[@class=\"y-css-8x4us\"]//p[text()=\"Business website\"]//following-sibling::p/a')\n",
    "website_url = websiteTag[0].get('href').strip() if websiteTag else 'site not found'\n",
    "print(website_url)"
   ]
  },
  {
   "cell_type": "code",
   "execution_count": 9,
   "id": "ca6d061a",
   "metadata": {},
   "outputs": [
    {
     "name": "stdout",
     "output_type": "stream",
     "text": [
      "6314 Geary Blvd San Francisco, CA 94121\n"
     ]
    }
   ],
   "source": [
    "'//div[@class=\"y-css-8x4us\"]//a[text()=\"Get Directions\"]/../following-sibling::p'\n",
    "\n",
    "addressTag = soup.xpath('//div[@class=\"y-css-8x4us\"]//a[text()=\"Get Directions\"]/../following-sibling::p')\n",
    "address = addressTag[0].text_content().strip() if addressTag else 'site not found'\n",
    "print(address)"
   ]
  }
 ],
 "metadata": {
  "kernelspec": {
   "display_name": "Python 3",
   "language": "python",
   "name": "python3"
  },
  "language_info": {
   "codemirror_mode": {
    "name": "ipython",
    "version": 3
   },
   "file_extension": ".py",
   "mimetype": "text/x-python",
   "name": "python",
   "nbconvert_exporter": "python",
   "pygments_lexer": "ipython3",
   "version": "3.12.9"
  }
 },
 "nbformat": 4,
 "nbformat_minor": 5
}
